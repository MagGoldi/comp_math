{
 "cells": [
  {
   "cell_type": "markdown",
   "metadata": {},
   "source": [
    "Нестеренко Андрей. Лабораторная работа №2. Лабораторная работа №2. Вариант 5"
   ]
  },
  {
   "cell_type": "code",
   "execution_count": 1,
   "metadata": {},
   "outputs": [],
   "source": [
    "import math\n",
    "import numpy as np\n",
    "import matplotlib.pyplot as plt\n",
    "import scipy as sp\n",
    "from scipy import integrate\n",
    "\n",
    "import sympy"
   ]
  },
  {
   "cell_type": "markdown",
   "metadata": {},
   "source": [
    "Step 1"
   ]
  },
  {
   "cell_type": "code",
   "execution_count": 2,
   "metadata": {},
   "outputs": [
    {
     "data": {
      "text/plain": [
       "array([[3, 4, 1, 7, 0, 3],\n",
       "       [6, 2, 1, 6, 0, 3],\n",
       "       [1, 2, 0, 4, 4, 7],\n",
       "       [5, 5, 0, 0, 4, 1],\n",
       "       [7, 0, 4, 7, 6, 7],\n",
       "       [0, 0, 0, 6, 0, 7]])"
      ]
     },
     "execution_count": 2,
     "metadata": {},
     "output_type": "execute_result"
    }
   ],
   "source": [
    "array = np.random.randint(0, 8, (6, 6))\n",
    "array"
   ]
  },
  {
   "cell_type": "code",
   "execution_count": 3,
   "metadata": {},
   "outputs": [
    {
     "data": {
      "text/plain": [
       "array([[7, 0, 4, 7, 6, 7],\n",
       "       [0, 0, 0, 6, 0, 7]])"
      ]
     },
     "execution_count": 3,
     "metadata": {},
     "output_type": "execute_result"
    }
   ],
   "source": [
    "slice_arr_1 = array[-2:]\n",
    "slice_arr_1"
   ]
  },
  {
   "cell_type": "code",
   "execution_count": 4,
   "metadata": {},
   "outputs": [
    {
     "data": {
      "text/plain": [
       "array([[3, 4],\n",
       "       [6, 2],\n",
       "       [1, 2],\n",
       "       [5, 5],\n",
       "       [7, 0],\n",
       "       [0, 0]])"
      ]
     },
     "execution_count": 4,
     "metadata": {},
     "output_type": "execute_result"
    }
   ],
   "source": [
    "slice_arr_2 = array[:, :2]\n",
    "slice_arr_2"
   ]
  },
  {
   "cell_type": "markdown",
   "metadata": {},
   "source": [
    "Step 2"
   ]
  },
  {
   "cell_type": "code",
   "execution_count": 5,
   "metadata": {},
   "outputs": [
    {
     "data": {
      "text/plain": [
       "array([[102,  71],\n",
       "       [ 30,  30]])"
      ]
     },
     "execution_count": 5,
     "metadata": {},
     "output_type": "execute_result"
    }
   ],
   "source": [
    "# Векторное умножение матриц\n",
    "C = np.dot(slice_arr_1, slice_arr_2)\n",
    "C"
   ]
  },
  {
   "cell_type": "code",
   "execution_count": 6,
   "metadata": {},
   "outputs": [
    {
     "data": {
      "text/plain": [
       "array([[102,  71],\n",
       "       [ 30,  30]])"
      ]
     },
     "execution_count": 6,
     "metadata": {},
     "output_type": "execute_result"
    }
   ],
   "source": [
    "np.matmul(slice_arr_1, slice_arr_2)"
   ]
  },
  {
   "cell_type": "code",
   "execution_count": 7,
   "metadata": {},
   "outputs": [
    {
     "name": "stdout",
     "output_type": "stream",
     "text": [
      "[[7 0 4 7 6 7]\n",
      " [0 0 0 6 0 7]]\n",
      "[[3 4]\n",
      " [6 2]\n",
      " [1 2]\n",
      " [5 5]\n",
      " [7 0]\n",
      " [0 0]]\n"
     ]
    }
   ],
   "source": [
    "print(slice_arr_1)\n",
    "print(slice_arr_2)"
   ]
  },
  {
   "cell_type": "code",
   "execution_count": 8,
   "metadata": {},
   "outputs": [],
   "source": [
    "A = slice_arr_1\n",
    "B = slice_arr_2"
   ]
  },
  {
   "cell_type": "code",
   "execution_count": 9,
   "metadata": {},
   "outputs": [
    {
     "data": {
      "text/plain": [
       "array([[102.,  71.],\n",
       "       [ 30.,  30.]])"
      ]
     },
     "execution_count": 9,
     "metadata": {},
     "output_type": "execute_result"
    }
   ],
   "source": [
    "C = np.zeros((A.shape[0], B.shape[1]))\n",
    "\n",
    "for i in range(A.shape[0]):\n",
    "    for j in range(B.shape[1]):\n",
    "        for k in range(A.shape[1]):\n",
    "            C[i][j] += A[i][k] * B[k][j]\n",
    "\n",
    "C            "
   ]
  },
  {
   "cell_type": "code",
   "execution_count": 10,
   "metadata": {},
   "outputs": [],
   "source": [
    "def vec_mul(a: np.ndarray, b: np.ndarray):\n",
    "    result = np.zeros((a.shape[0], b.shape[1]))\n",
    "    if a.shape[1] == b.shape[0]:\n",
    "        for i in range(a.shape[0]):\n",
    "            # iterate through columns of Y\n",
    "            for j in range(b.shape[1]):\n",
    "                result[i,j] = np.matmul(a[i, :], b[:, j])\n",
    "\n",
    "    return result"
   ]
  },
  {
   "cell_type": "markdown",
   "metadata": {},
   "source": [
    "Step 3"
   ]
  },
  {
   "cell_type": "code",
   "execution_count": 39,
   "metadata": {},
   "outputs": [
    {
     "name": "stdout",
     "output_type": "stream",
     "text": [
      "Вектор-строка 1x10 из случайных целых чисел - [6 7 1 7 9 5 2 9 9 9]\n",
      "Отсортированный вектор - [1, 2, 5, 6, 7, 7, 9, 9, 9, 9]\n",
      "9, норма от бесконечности - 9.0\n"
     ]
    }
   ],
   "source": [
    "def norm_infinity(arr_str):\n",
    "    print(f\"Вектор-строка 1x10 из случайных целых чисел - {arr_str}\")\n",
    "    print(f\"Отсортированный вектор - {sorted(arr_str)}\")\n",
    "    print(f\"{arr_str[-1]}, норма от бесконечности - {np.linalg.norm(arr_str, ord=np.inf)}\")\n",
    "    return(arr_str)\n",
    "\n",
    "arr_str = norm_infinity(np.random.randint(0, 10, (10)))    "
   ]
  },
  {
   "cell_type": "markdown",
   "metadata": {},
   "source": [
    "Step 4\n"
   ]
  },
  {
   "cell_type": "code",
   "execution_count": 25,
   "metadata": {},
   "outputs": [
    {
     "data": {
      "text/plain": [
       "array([[9, 0, 9, 2, 7],\n",
       "       [7, 7, 0, 7, 5],\n",
       "       [0, 9, 4, 1, 2],\n",
       "       [9, 3, 6, 1, 7],\n",
       "       [8, 4, 6, 4, 8]])"
      ]
     },
     "execution_count": 25,
     "metadata": {},
     "output_type": "execute_result"
    }
   ],
   "source": [
    "arr_norm_F = np.random.randint(0, 10, (5, 5))\n",
    "arr_norm_F"
   ]
  },
  {
   "cell_type": "code",
   "execution_count": 37,
   "metadata": {},
   "outputs": [],
   "source": [
    "def f_norm(a: np.ndarray):\n",
    "    res = 0\n",
    "    for i in range(a.shape[0]):\n",
    "        for j in range(a.shape[1]):\n",
    "            res+=a[i][j]**2\n",
    "    return math.sqrt(res)"
   ]
  },
  {
   "cell_type": "code",
   "execution_count": 38,
   "metadata": {},
   "outputs": [
    {
     "name": "stdout",
     "output_type": "stream",
     "text": [
      "29.34280150224242\n",
      "29.34280150224242\n"
     ]
    }
   ],
   "source": [
    "print(f_norm(arr_norm_F))\n",
    "print(np.linalg.norm(arr_norm_F, ord='fro'))"
   ]
  },
  {
   "cell_type": "markdown",
   "metadata": {},
   "source": [
    "Step 5"
   ]
  },
  {
   "cell_type": "code",
   "execution_count": null,
   "metadata": {},
   "outputs": [],
   "source": []
  },
  {
   "cell_type": "markdown",
   "metadata": {},
   "source": [
    "Step 6\n"
   ]
  },
  {
   "cell_type": "code",
   "execution_count": 41,
   "metadata": {},
   "outputs": [
    {
     "data": {
      "text/plain": [
       "array([[9, 0, 9, 2, 7],\n",
       "       [7, 7, 0, 7, 5],\n",
       "       [0, 9, 4, 1, 2],\n",
       "       [9, 3, 6, 1, 7],\n",
       "       [8, 4, 6, 4, 8]])"
      ]
     },
     "execution_count": 41,
     "metadata": {},
     "output_type": "execute_result"
    }
   ],
   "source": [
    "arr_norm_F"
   ]
  },
  {
   "cell_type": "code",
   "execution_count": 52,
   "metadata": {},
   "outputs": [
    {
     "ename": "UFuncTypeError",
     "evalue": "Cannot cast ufunc 'subtract' output from dtype('float64') to dtype('int32') with casting rule 'same_kind'",
     "output_type": "error",
     "traceback": [
      "\u001b[1;31m---------------------------------------------------------------------------\u001b[0m",
      "\u001b[1;31mUFuncTypeError\u001b[0m                            Traceback (most recent call last)",
      "\u001b[1;32mc:\\PYTHON\\comp_math\\lab_2\\test.ipynb Cell 24\u001b[0m line \u001b[0;36m1\n\u001b[0;32m     <a href='vscode-notebook-cell:/c%3A/PYTHON/comp_math/lab_2/test.ipynb#X43sZmlsZQ%3D%3D?line=15'>16</a>\u001b[0m A \u001b[39m=\u001b[39m arr_norm_F\n\u001b[0;32m     <a href='vscode-notebook-cell:/c%3A/PYTHON/comp_math/lab_2/test.ipynb#X43sZmlsZQ%3D%3D?line=16'>17</a>\u001b[0m \u001b[39m# Вычисление LU разложения\u001b[39;00m\n\u001b[1;32m---> <a href='vscode-notebook-cell:/c%3A/PYTHON/comp_math/lab_2/test.ipynb#X43sZmlsZQ%3D%3D?line=17'>18</a>\u001b[0m L, U \u001b[39m=\u001b[39m lu_decomposition(A)\n\u001b[0;32m     <a href='vscode-notebook-cell:/c%3A/PYTHON/comp_math/lab_2/test.ipynb#X43sZmlsZQ%3D%3D?line=19'>20</a>\u001b[0m \u001b[39m# Проверка результатов\u001b[39;00m\n\u001b[0;32m     <a href='vscode-notebook-cell:/c%3A/PYTHON/comp_math/lab_2/test.ipynb#X43sZmlsZQ%3D%3D?line=20'>21</a>\u001b[0m result \u001b[39m=\u001b[39m np\u001b[39m.\u001b[39mdot(L, U)\n",
      "\u001b[1;32mc:\\PYTHON\\comp_math\\lab_2\\test.ipynb Cell 24\u001b[0m line \u001b[0;36m1\n\u001b[0;32m      <a href='vscode-notebook-cell:/c%3A/PYTHON/comp_math/lab_2/test.ipynb#X43sZmlsZQ%3D%3D?line=8'>9</a>\u001b[0m     \u001b[39mfor\u001b[39;00m i \u001b[39min\u001b[39;00m \u001b[39mrange\u001b[39m(k\u001b[39m+\u001b[39m\u001b[39m1\u001b[39m, n):\n\u001b[0;32m     <a href='vscode-notebook-cell:/c%3A/PYTHON/comp_math/lab_2/test.ipynb#X43sZmlsZQ%3D%3D?line=9'>10</a>\u001b[0m         L[i, k] \u001b[39m=\u001b[39m U[i, k] \u001b[39m/\u001b[39m U[k, k]\n\u001b[1;32m---> <a href='vscode-notebook-cell:/c%3A/PYTHON/comp_math/lab_2/test.ipynb#X43sZmlsZQ%3D%3D?line=10'>11</a>\u001b[0m         U[i, k:] \u001b[39m-\u001b[39m\u001b[39m=\u001b[39m L[i, k] \u001b[39m*\u001b[39m U[k, k:]\n\u001b[0;32m     <a href='vscode-notebook-cell:/c%3A/PYTHON/comp_math/lab_2/test.ipynb#X43sZmlsZQ%3D%3D?line=12'>13</a>\u001b[0m \u001b[39mreturn\u001b[39;00m L, U\n",
      "\u001b[1;31mUFuncTypeError\u001b[0m: Cannot cast ufunc 'subtract' output from dtype('float64') to dtype('int32') with casting rule 'same_kind'"
     ]
    }
   ],
   "source": [
    "import numpy as np\n",
    "\n",
    "def lu_decomposition(matrix):\n",
    "    n = matrix.shape[0]\n",
    "    L = np.eye(n)\n",
    "    U = matrix.copy()\n",
    "\n",
    "    for k in range(n-1):\n",
    "        for i in range(k+1, n):\n",
    "            L[i, k] = U[i, k] / U[k, k]\n",
    "            U[i, k:] -= L[i, k] * U[k, k:]\n",
    "\n",
    "    return L, U\n",
    "\n",
    "# Создание матрицы\n",
    "A = arr_norm_F\n",
    "# Вычисление LU разложения\n",
    "L, U = lu_decomposition(A)\n",
    "\n",
    "# Проверка результатов\n",
    "result = np.dot(L, U)\n",
    "print(result)"
   ]
  },
  {
   "cell_type": "markdown",
   "metadata": {},
   "source": [
    "Step 7"
   ]
  },
  {
   "cell_type": "code",
   "execution_count": 54,
   "metadata": {},
   "outputs": [
    {
     "name": "stdout",
     "output_type": "stream",
     "text": [
      "[[ 9.00000000e+00 -2.60364540e-16  9.00000000e+00  2.00000000e+00\n",
      "   7.00000000e+00]\n",
      " [ 7.00000000e+00  7.00000000e+00  1.25006131e-15  7.00000000e+00\n",
      "   5.00000000e+00]\n",
      " [ 0.00000000e+00  9.00000000e+00  4.00000000e+00  1.00000000e+00\n",
      "   2.00000000e+00]\n",
      " [ 9.00000000e+00  3.00000000e+00  6.00000000e+00  1.00000000e+00\n",
      "   7.00000000e+00]\n",
      " [ 8.00000000e+00  4.00000000e+00  6.00000000e+00  4.00000000e+00\n",
      "   8.00000000e+00]]\n",
      "(array([[-0.54272042,  0.33311365, -0.46781967,  0.36979302, -0.48876142],\n",
      "       [-0.42211588, -0.40062742,  0.714083  ,  0.24119735, -0.30532796],\n",
      "       [-0.        , -0.84820605, -0.51258281, -0.04862578, -0.12426138],\n",
      "       [-0.54272042,  0.0503783 , -0.00584421, -0.8383399 ,  0.00828409],\n",
      "       [-0.48241815, -0.08087945, -0.09195076,  0.31606756,  0.80769895]]), array([[-16.58312395,  -6.51264504, -11.03531521,  -6.51264504,\n",
      "        -13.56801051],\n",
      "       [  0.        , -10.61062932,  -0.57780824,  -3.2595102 ,\n",
      "         -1.66214115],\n",
      "       [  0.        ,   0.        ,  -6.84747806,   3.17671157,\n",
      "         -1.50600386],\n",
      "       [  0.        ,   0.        ,   0.        ,   2.80527207,\n",
      "          0.3574475 ],\n",
      "       [  0.        ,   0.        ,   0.        ,   0.        ,\n",
      "          1.32308781]]))\n"
     ]
    }
   ],
   "source": [
    "def qr_decomposition(matrix):\n",
    "    Q, R = np.linalg.qr(matrix)\n",
    "    return Q, R\n",
    "\n",
    "# Создание матрицы\n",
    "A = arr_norm_F\n",
    "\n",
    "# Вычисление QR разложения\n",
    "Q, R = qr_decomposition(A)\n",
    "\n",
    "# Проверка результатов\n",
    "result = np.dot(Q, R)\n",
    "print(result)\n",
    "\n",
    "result_np = np.linalg.qr(A)\n",
    "print(result_np)"
   ]
  },
  {
   "cell_type": "code",
   "execution_count": null,
   "metadata": {},
   "outputs": [],
   "source": []
  }
 ],
 "metadata": {
  "kernelspec": {
   "display_name": "Python 3",
   "language": "python",
   "name": "python3"
  },
  "language_info": {
   "codemirror_mode": {
    "name": "ipython",
    "version": 3
   },
   "file_extension": ".py",
   "mimetype": "text/x-python",
   "name": "python",
   "nbconvert_exporter": "python",
   "pygments_lexer": "ipython3",
   "version": "3.10.5"
  }
 },
 "nbformat": 4,
 "nbformat_minor": 2
}
