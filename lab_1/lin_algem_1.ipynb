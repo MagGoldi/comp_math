{
 "cells": [
  {
   "cell_type": "code",
   "execution_count": 110,
   "metadata": {},
   "outputs": [],
   "source": [
    "import math\n",
    "import numpy as np\n",
    "import matplotlib.pyplot as plt\n",
    "import scipy as sp\n",
    "from scipy import integrate\n",
    "\n",
    "import sympy"
   ]
  },
  {
   "cell_type": "markdown",
   "metadata": {},
   "source": [
    "Нестеренко Андрей. Лабораторная работа №1. Питон для математиков. Вариант 9"
   ]
  },
  {
   "cell_type": "code",
   "execution_count": 111,
   "metadata": {},
   "outputs": [
    {
     "data": {
      "text/plain": [
       "array([[1, 1, 1, 1, 1],\n",
       "       [1, 1, 1, 1, 1],\n",
       "       [1, 1, 1, 1, 1],\n",
       "       [1, 1, 1, 1, 1],\n",
       "       [1, 1, 1, 1, 1]])"
      ]
     },
     "execution_count": 111,
     "metadata": {},
     "output_type": "execute_result"
    }
   ],
   "source": [
    "matrix_A = np.full((5, 5), 1)\n",
    "matrix_A"
   ]
  },
  {
   "cell_type": "code",
   "execution_count": 112,
   "metadata": {},
   "outputs": [
    {
     "data": {
      "text/plain": [
       "array([[1., 0., 0., ..., 0., 0., 0.],\n",
       "       [0., 1., 0., ..., 0., 0., 0.],\n",
       "       [0., 0., 1., ..., 0., 0., 0.],\n",
       "       ...,\n",
       "       [0., 0., 0., ..., 1., 0., 0.],\n",
       "       [0., 0., 0., ..., 0., 1., 0.],\n",
       "       [0., 0., 0., ..., 0., 0., 1.]])"
      ]
     },
     "execution_count": 112,
     "metadata": {},
     "output_type": "execute_result"
    }
   ],
   "source": [
    "matrix_B = np.eye(50)\n",
    "matrix_B"
   ]
  },
  {
   "cell_type": "markdown",
   "metadata": {},
   "source": [
    "Задание 2"
   ]
  },
  {
   "cell_type": "code",
   "execution_count": 113,
   "metadata": {},
   "outputs": [
    {
     "data": {
      "text/plain": [
       "array([[-1,  3,  4,  0],\n",
       "       [ 2,  3,  4, -2],\n",
       "       [ 3,  2,  1, -5],\n",
       "       [ 4,  3,  1,  2]])"
      ]
     },
     "execution_count": 113,
     "metadata": {},
     "output_type": "execute_result"
    }
   ],
   "source": [
    "matrix_C = np.array([[-1, 3, 4, 0], [2, 3, 4, -2], [3, 2, 1, -5], [4, 3, 1, 2]], int)\n",
    "matrix_C"
   ]
  },
  {
   "cell_type": "code",
   "execution_count": 114,
   "metadata": {},
   "outputs": [
    {
     "data": {
      "text/plain": [
       "149.0"
      ]
     },
     "execution_count": 114,
     "metadata": {},
     "output_type": "execute_result"
    }
   ],
   "source": [
    "np.linalg.det(matrix_C)"
   ]
  },
  {
   "cell_type": "markdown",
   "metadata": {},
   "source": [
    "Задание 3"
   ]
  },
  {
   "cell_type": "code",
   "execution_count": 115,
   "metadata": {},
   "outputs": [
    {
     "data": {
      "text/plain": [
       "array([[3, 0, 3, 5],\n",
       "       [1, 2, 2, 2],\n",
       "       [2, 4, 4, 1],\n",
       "       [2, 3, 4, 5]])"
      ]
     },
     "execution_count": 115,
     "metadata": {},
     "output_type": "execute_result"
    }
   ],
   "source": [
    "A = np.random.randint(0,6,(4, 4))\n",
    "A"
   ]
  },
  {
   "cell_type": "code",
   "execution_count": 116,
   "metadata": {},
   "outputs": [
    {
     "data": {
      "text/plain": [
       "array([[3],\n",
       "       [2],\n",
       "       [2],\n",
       "       [0]])"
      ]
     },
     "execution_count": 116,
     "metadata": {},
     "output_type": "execute_result"
    }
   ],
   "source": [
    "B = np.random.randint(low=0, high=6, size=(4, 1))\n",
    "B"
   ]
  },
  {
   "cell_type": "code",
   "execution_count": 117,
   "metadata": {},
   "outputs": [
    {
     "data": {
      "text/plain": [
       "array([[ 8.44444444],\n",
       "       [ 4.66666667],\n",
       "       [-8.55555556],\n",
       "       [ 0.66666667]])"
      ]
     },
     "execution_count": 117,
     "metadata": {},
     "output_type": "execute_result"
    }
   ],
   "source": [
    "X = np.linalg.solve(A, B)\n",
    "X"
   ]
  },
  {
   "cell_type": "markdown",
   "metadata": {},
   "source": [
    "Задание 4"
   ]
  },
  {
   "cell_type": "code",
   "execution_count": 118,
   "metadata": {},
   "outputs": [
    {
     "data": {
      "text/plain": [
       "(0.38888888888888884, 4.317533984653386e-15)"
      ]
     },
     "execution_count": 118,
     "metadata": {},
     "output_type": "execute_result"
    }
   ],
   "source": [
    "\n",
    "integrate.quad(lambda x:(x+1), 0, 1/3)"
   ]
  },
  {
   "cell_type": "markdown",
   "metadata": {},
   "source": [
    "Задание 5"
   ]
  },
  {
   "cell_type": "code",
   "execution_count": 119,
   "metadata": {},
   "outputs": [
    {
     "data": {
      "text/latex": [
       "$\\displaystyle 0.338874749637322$"
      ],
      "text/plain": [
       "0.338874749637322"
      ]
     },
     "execution_count": 119,
     "metadata": {},
     "output_type": "execute_result"
    }
   ],
   "source": [
    "x = sympy.Symbol('x')\n",
    "f = sympy.cosh(2/3 * x)**2\n",
    "\n",
    "integral = sympy.integrate(f, (x, 0, 1/3))\n",
    "integral"
   ]
  },
  {
   "cell_type": "code",
   "execution_count": 120,
   "metadata": {},
   "outputs": [
    {
     "data": {
      "text/latex": [
       "$\\displaystyle \\frac{1}{40}$"
      ],
      "text/plain": [
       "1/40"
      ]
     },
     "execution_count": 120,
     "metadata": {},
     "output_type": "execute_result"
    }
   ],
   "source": [
    "x = sympy.Symbol('x')\n",
    "y = sympy.Symbol('y')\n",
    "z = sympy.Symbol('z')\n",
    "\n",
    "f = (x + y + z) * (1 - x - y - z)\n",
    "\n",
    "integral_2 = sympy.integrate(f, (z, 0, 1 - x - y), (y, 0, 1 - x), (x, 0, 1))\n",
    "integral_2\n"
   ]
  },
  {
   "cell_type": "markdown",
   "metadata": {},
   "source": [
    "Задание 5"
   ]
  },
  {
   "cell_type": "code",
   "execution_count": 121,
   "metadata": {},
   "outputs": [
    {
     "data": {
      "image/png": "[encoded data removed]",
      "text/plain": [
       "<Figure size 640x480 with 1 Axes>"
      ]
     },
     "metadata": {},
     "output_type": "display_data"
    },
    {
     "name": "stdout",
     "output_type": "stream",
     "text": [
      "Точка пересечения: ( 1.7239886665938022 , 0.7239886665938 )\n"
     ]
    }
   ],
   "source": [
    "from scipy.optimize import fsolve\n",
    "\n",
    "# Определение функций y1 и y2\n",
    "def y1(x):\n",
    "    return 2 * np.sin(x + np.pi/3)\n",
    "\n",
    "def y2(x):\n",
    "    return x - 1\n",
    "\n",
    "# Определение функции для решения уравнения y1 = y2\n",
    "def equation(x):\n",
    "    return y1(x) - y2(x)\n",
    "\n",
    "# Нахождение точки пересечения\n",
    "x_intersect = fsolve(equation, 0)[0]\n",
    "y_intersect = y1(x_intersect)\n",
    "\n",
    "# Построение графиков\n",
    "x = np.linspace(-10, 10, 100)\n",
    "plt.plot(x, y1(x), label='y1 = 2 * sin(x + pi/3)')\n",
    "plt.plot(x, y2(x), label='y2 = x - 1')\n",
    "plt.plot(x_intersect, y_intersect, 'ro', label='Точка пересечения')\n",
    "plt.legend()\n",
    "plt.xlabel('x')\n",
    "plt.ylabel('y')\n",
    "plt.title('Графики функций y1 и y2')\n",
    "plt.grid(True)\n",
    "plt.show()\n",
    "\n",
    "print(\"Точка пересечения: (\", x_intersect, \",\", y_intersect, \")\")"
   ]
  },
  {
   "cell_type": "code",
   "execution_count": 123,
   "metadata": {},
   "outputs": [
    {
     "data": {
      "image/png": "[encoded data removed]",
      "text/plain": [
       "<Figure size 640x400 with 1 Axes>"
      ]
     },
     "metadata": {},
     "output_type": "display_data"
    }
   ],
   "source": [
    "from scipy.optimize import fsolve\n",
    "plt.figure(figsize=(8, 5), dpi=80)\n",
    "ax = plt.subplot(111)\n",
    "\n",
    "# Добавление стрелки направления к оси X\n",
    "ax.annotate('', xy=(X.max() * 1.05, 0), xytext=(X.min() * 1.05, 0),\n",
    "            arrowprops=dict(arrowstyle=\"->\"))\n",
    "\n",
    "# Добавление стрелки направления к оси Y\n",
    "ax.annotate('', xy=(0, C.max() * 1.05), xytext=(0, C.min() * 1.05),\n",
    "            arrowprops=dict(arrowstyle=\"->\"))\n",
    "\n",
    "# Мы решили удалить правую и верхнюю прямоугольные границы\n",
    "ax.spines['right'].set_color('none')\n",
    "ax.spines['top'].set_color('none')\n",
    "\n",
    "# Установить направление данных на координатной оси\n",
    " # 0 согласуется с нашей общей декартовой системой координат, 1 - противоположность\n",
    "ax.xaxis.set_ticks_position('bottom')\n",
    "ax.spines['bottom'].set_position(('data', 0))\n",
    "ax.yaxis.set_ticks_position('left')\n",
    "ax.spines['left'].set_position(('data', 0))\n",
    "\n",
    "# Подготовить данные, использовать распаковку последовательности\n",
    "\n",
    "X = np.linspace(-2*np.pi, 2*np.pi, 256, endpoint=True)\n",
    "C, L = np.sin(X + np.pi/3), X-2\n",
    "\n",
    "plt.plot(X, C, color=\"blue\", linewidth=2.5, linestyle=\"-\", label=\"Sin Function\")\n",
    "plt.plot(X, L, color=\"red\", linewidth=2.5, linestyle=\"-\", label=\"Lin Function\")\n",
    "\n",
    "plt.xlim(X.min() * 1.1, X.max() * 1.1)\n",
    "\n",
    "# Изменить метку на оси координат\n",
    "plt.xticks([-2*np.pi, -3*np.pi / 2, -np.pi, -np.pi / 2, 0, np.pi / 2, np.pi, 3*np.pi / 2, 2*np.pi ],\n",
    "           [r'$-2\\pi$', r'$-3\\pi/2$', r'$-\\pi$', r'$-\\pi/2$', r'$0$', r'$+\\pi/2$', r'$+\\pi$', r'$+3 \\pi/2$', r'$+ 2\\pi$' ])\n",
    "\n",
    "plt.ylim(C.min() * 1.1, C.max() * 1.1)\n",
    "plt.yticks([-2, -1, +1, +2],\n",
    "           [r'$-2$', r'$-1$', r'$+1$', r'$+2$'])\n",
    "# #########################\n",
    "def y1(x):\n",
    "    return np.sin(x + np.pi/3)\n",
    "def y2(x):\n",
    "    return x-2\n",
    "\n",
    "# Определение функции для решения уравнения y1 = y2\n",
    "def equation(x):\n",
    "    return y1(x) - y2(x)\n",
    "\n",
    "# Нахождение точки пересечения\n",
    "x_intersect = fsolve(equation, 0)[0]\n",
    "y_intersect = y1(x_intersect)\n",
    "plt.plot(x_intersect, y_intersect, 'ro', label='Точка пересечения')\n",
    "\n",
    "\n",
    "plt.legend(loc='upper left', frameon=False)\n",
    "plt.grid()\n",
    "plt.show()"
   ]
  }
 ],
 "metadata": {
  "kernelspec": {
   "display_name": "Python 3",
   "language": "python",
   "name": "python3"
  },
  "language_info": {
   "codemirror_mode": {
    "name": "ipython",
    "version": 3
   },
   "file_extension": ".py",
   "mimetype": "text/x-python",
   "name": "python",
   "nbconvert_exporter": "python",
   "pygments_lexer": "ipython3",
   "version": "3.10.5"
  },
  "orig_nbformat": 4
 },
 "nbformat": 4,
 "nbformat_minor": 2
}
