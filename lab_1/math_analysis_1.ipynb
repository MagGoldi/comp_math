{
 "cells": [
  {
   "cell_type": "code",
   "execution_count": 1,
   "metadata": {},
   "outputs": [],
   "source": [
    "import math\n",
    "import numpy as np\n",
    "import matplotlib.pyplot as plt\n",
    "import scipy as sp\n",
    "from scipy import integrate\n",
    "\n",
    "import sympy as sp"
   ]
  },
  {
   "cell_type": "markdown",
   "metadata": {},
   "source": [
    "Нестеренко Андрей. Лабораторная работа №1. Выриант 9"
   ]
  },
  {
   "cell_type": "markdown",
   "metadata": {},
   "source": [
    "Задание 1"
   ]
  },
  {
   "cell_type": "code",
   "execution_count": null,
   "metadata": {},
   "outputs": [],
   "source": []
  },
  {
   "cell_type": "code",
   "execution_count": 4,
   "metadata": {},
   "outputs": [
    {
     "name": "stdout",
     "output_type": "stream",
     "text": [
      "Упрощенное выражение: 1090/3\n"
     ]
    }
   ],
   "source": [
    "# Определение символьных переменных a и b\n",
    "a, b = sp.symbols('a b')\n",
    "\n",
    "# Определение выражения (2a + 3b)^2 + a/b\n",
    "expression = (2*a + 3*b)**2 + a/b\n",
    "\n",
    "# Упрощение выражения\n",
    "simplified_expression = sp.simplify(expression)\n",
    "\n",
    "# Подстановка значений a = √3 и b = √27\n",
    "substituted_expression = simplified_expression.subs([(a, sp.sqrt(3)), (b, sp.sqrt(27))])\n",
    "\n",
    "# Вывод результата\n",
    "print(\"Упрощенное выражение:\", substituted_expression)"
   ]
  },
  {
   "cell_type": "markdown",
   "metadata": {},
   "source": [
    "Задание 2"
   ]
  },
  {
   "cell_type": "code",
   "execution_count": 5,
   "metadata": {},
   "outputs": [
    {
     "name": "stdout",
     "output_type": "stream",
     "text": [
      "Частная производная по переменной a: 8*a + 12*b + 1/b\n",
      "Частная производная по переменной b: 12*a - a/b**2 + 18*b\n"
     ]
    }
   ],
   "source": [
    "# Вычисление частной производной по переменной a\n",
    "derivative_a = sp.diff(expression, a)\n",
    "\n",
    "# Вычисление частной производной по переменной b\n",
    "derivative_b = sp.diff(expression, b)\n",
    "\n",
    "# Вывод результатов\n",
    "print(\"Частная производная по переменной a:\", derivative_a)\n",
    "print(\"Частная производная по переменной b:\", derivative_b)"
   ]
  },
  {
   "cell_type": "markdown",
   "metadata": {},
   "source": [
    "Задание 3"
   ]
  },
  {
   "cell_type": "code",
   "execution_count": 6,
   "metadata": {},
   "outputs": [
    {
     "name": "stdout",
     "output_type": "stream",
     "text": [
      "Неопределенный интеграл: 4*a**3/3 + a**2*(12*b**2 + 1)/(2*b) + 9*a*b**2\n"
     ]
    }
   ],
   "source": [
    "# Вычисление неопределенного интеграла по a\n",
    "integral = sp.integrate(expression, a)\n",
    "\n",
    "# Вывод результата\n",
    "print(\"Неопределенный интеграл:\", integral)"
   ]
  },
  {
   "cell_type": "markdown",
   "metadata": {},
   "source": [
    "Задание 4"
   ]
  },
  {
   "cell_type": "code",
   "execution_count": 7,
   "metadata": {},
   "outputs": [
    {
     "name": "stdout",
     "output_type": "stream",
     "text": [
      "Решение уравнения: [-(c/3 + 4/9)/(3*(2*c/3 + sqrt(-4*(c/3 + 4/9)**3 + (4*c/3 + 65/27)**2)/2 + 65/54)**(1/3)) - (2*c/3 + sqrt(-4*(c/3 + 4/9)**3 + (4*c/3 + 65/27)**2)/2 + 65/54)**(1/3)/3 - 4/9, -(c/3 + 4/9)/(3*(-1/2 - sqrt(3)*I/2)*(2*c/3 + sqrt(-4*(c/3 + 4/9)**3 + (4*c/3 + 65/27)**2)/2 + 65/54)**(1/3)) - (-1/2 - sqrt(3)*I/2)*(2*c/3 + sqrt(-4*(c/3 + 4/9)**3 + (4*c/3 + 65/27)**2)/2 + 65/54)**(1/3)/3 - 4/9, -(c/3 + 4/9)/(3*(-1/2 + sqrt(3)*I/2)*(2*c/3 + sqrt(-4*(c/3 + 4/9)**3 + (4*c/3 + 65/27)**2)/2 + 65/54)**(1/3)) - (-1/2 + sqrt(3)*I/2)*(2*c/3 + sqrt(-4*(c/3 + 4/9)**3 + (4*c/3 + 65/27)**2)/2 + 65/54)**(1/3)/3 - 4/9]\n"
     ]
    }
   ],
   "source": [
    "# Подстановка a=1 в выражение и приравнивание к произвольному числу\n",
    "equation = sp.Eq(expression.subs(a, 1), sp.Symbol('c'))\n",
    "\n",
    "# Решение уравнения\n",
    "solution = sp.solve(equation, b)\n",
    "\n",
    "# Вывод результата\n",
    "print(\"Решение уравнения:\", solution)"
   ]
  },
  {
   "cell_type": "markdown",
   "metadata": {},
   "source": [
    "Задание 5"
   ]
  },
  {
   "cell_type": "code",
   "execution_count": 8,
   "metadata": {},
   "outputs": [
    {
     "name": "stdout",
     "output_type": "stream",
     "text": [
      "Решение системы уравнений:\n",
      "x1: 1\n",
      "x2: 0\n",
      "x3: 2\n"
     ]
    }
   ],
   "source": [
    "\n",
    "x1, x2, x3 = sp.symbols('x1 x2 x3')\n",
    "\n",
    "equations = [\n",
    "    sp.Eq(3*x1 + 2*x2 + x3, 5),\n",
    "    sp.Eq(3*x1 + 3*x2 + 2*x3, 7),\n",
    "    sp.Eq(5*x1 + 5*x2 + 3*x3, 11)\n",
    "]\n",
    "\n",
    "# Решение системы уравнений\n",
    "solution = sp.solve(equations, (x1, x2, x3))\n",
    "\n",
    "# Вывод результата\n",
    "print(\"Решение системы уравнений:\")\n",
    "for variable, value in solution.items():\n",
    "    print(f\"{variable}: {value}\")"
   ]
  },
  {
   "cell_type": "markdown",
   "metadata": {},
   "source": [
    "Задание 6"
   ]
  },
  {
   "cell_type": "code",
   "execution_count": 9,
   "metadata": {},
   "outputs": [
    {
     "data": {
      "text/latex": [
       "$\\displaystyle 0.338874749637322$"
      ],
      "text/plain": [
       "0.338874749637322"
      ]
     },
     "execution_count": 9,
     "metadata": {},
     "output_type": "execute_result"
    }
   ],
   "source": [
    "import sympy\n",
    "\n",
    "x = sympy.Symbol('x')\n",
    "f = sympy.cosh(2/3 * x)**2\n",
    "\n",
    "integral = sympy.integrate(f, (x, 0, 1/3))\n",
    "integral"
   ]
  },
  {
   "cell_type": "markdown",
   "metadata": {},
   "source": [
    "Задание 7\n"
   ]
  },
  {
   "cell_type": "code",
   "execution_count": 10,
   "metadata": {},
   "outputs": [
    {
     "data": {
      "text/latex": [
       "$\\displaystyle \\frac{1}{40}$"
      ],
      "text/plain": [
       "1/40"
      ]
     },
     "execution_count": 10,
     "metadata": {},
     "output_type": "execute_result"
    }
   ],
   "source": [
    "x = sympy.Symbol('x')\n",
    "y = sympy.Symbol('y')\n",
    "z = sympy.Symbol('z')\n",
    "\n",
    "f = (x + y + z) * (1 - x - y - z)\n",
    "\n",
    "integral_2 = sympy.integrate(f, (z, 0, 1 - x - y), (y, 0, 1 - x), (x, 0, 1))\n",
    "integral_2\n"
   ]
  }
 ],
 "metadata": {
  "kernelspec": {
   "display_name": "Python 3",
   "language": "python",
   "name": "python3"
  },
  "language_info": {
   "codemirror_mode": {
    "name": "ipython",
    "version": 3
   },
   "file_extension": ".py",
   "mimetype": "text/x-python",
   "name": "python",
   "nbconvert_exporter": "python",
   "pygments_lexer": "ipython3",
   "version": "3.10.5"
  },
  "orig_nbformat": 4
 },
 "nbformat": 4,
 "nbformat_minor": 2
}
